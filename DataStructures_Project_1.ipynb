{
  "nbformat": 4,
  "nbformat_minor": 0,
  "metadata": {
    "colab": {
      "name": "DataStructures_Project#1.ipynb",
      "provenance": [],
      "collapsed_sections": [
        "CB3iVZV9OoQI",
        "cC_0i9beOksc",
        "pKXYul-eB81v"
      ]
    },
    "kernelspec": {
      "name": "python3",
      "display_name": "Python 3"
    }
  },
  "cells": [
    {
      "cell_type": "markdown",
      "metadata": {
        "id": "4SW1mtt9U6Pp"
      },
      "source": [
        "## Team Infomartion\n",
        "\n",
        "**Please write the names of your team members along with their respective IDs**.\n",
        "\n",
        "---\n",
        "**Group Name**: *name of the group*                    <br>\n",
        "**Name 1**: *your name here* **ID 1**: *your id here*  <br>\n",
        "**Name 2**: *your name here* **ID 2**: *your id here*  <br>\n",
        "**Name 3**: *your name here* **ID 3**: *your id here*\n",
        "\n"
      ]
    },
    {
      "cell_type": "markdown",
      "metadata": {
        "id": "CB3iVZV9OoQI"
      },
      "source": [
        "## Circular Deque"
      ]
    },
    {
      "cell_type": "markdown",
      "metadata": {
        "id": "T-SGK0REUSyQ"
      },
      "source": [
        "Design your implementation of the circular double-ended queue (deque). \n",
        "Your implementation should support following operations:\n",
        "\n",
        "\n",
        "* `CircularDeque(capacity)` Constructor, set the maximum size of the deque to be capacity.\n",
        "* `insertFront()` Adds an item at the front of Deque. Return true if the operation is successful.\n",
        "* `insertRear()` Adds an item at the rear of Deque. Return true if the operation is successful.\n",
        "* `deleteFront()` Deletes an item from the front of Deque. Return true if the operation is successful.\n",
        "* `deleteRear()` Deletes an item from the rear of Deque. Return true if the operation is successful.\n",
        "* `getFront()` Gets the front item from the Deque. If the deque is empty, return `None`.\n",
        "* `getRear()` Gets the last item from Deque. If the deque is empty, return `None`.\n",
        "* `isEmpty()` Checks whether Deque is empty or not. \n",
        "* `isFull()` Checks whether Deque is full or not.\n",
        "---\n",
        "**Example**\n",
        "```python3\n",
        "myCircularDeque = CircularDeque(3)  # set the size to be 3\n",
        "myCircularDeque.insertRear(1)       # return true\n",
        "myCircularDeque.insertRear(2)       # return true\n",
        "myCircularDeque.insertFront(3)      # return true\n",
        "myCircularDeque.insertFront(4)      # return false, the queue is full\n",
        "myCircularDeque.getRear()           # return 2\n",
        "myCircularDeque.isFull()            # return true\n",
        "myCircularDeque.deleteRear()        # return true\n",
        "myCircularDeque.insertFront(4)      # return true\n",
        "myCircularDeque.getFront()          # return 4\n",
        "```"
      ]
    },
    {
      "cell_type": "code",
      "metadata": {
        "id": "zVUxHmLgF4nU"
      },
      "source": [
        "class CircularDeque:\n",
        "    def __init__(self, capacity: int):\n",
        "        \"\"\"\n",
        "        Initialize your data structure here.\n",
        "        Set the maximum size of the deque to be capacity.\n",
        "        \"\"\"\n",
        "        self.capacity = capacity\n",
        "        self.deque = [0] * capacity\n",
        "        self.front = self.rear = -1\n",
        "\n",
        "    def insertFront(self, value: int) -> bool:\n",
        "        \"\"\"\n",
        "        Adds an item at the front of Deque.\n",
        "        Return true if the operation is successful.\n",
        "        \"\"\"\n",
        "\n",
        "    def insertRear(self, value: int) -> bool:\n",
        "        \"\"\"\n",
        "        Adds an item at the rear of Deque.\n",
        "        Return true if the operation is successful.\n",
        "        \"\"\"\n",
        "\n",
        "    def deleteFront(self) -> bool:\n",
        "        \"\"\"\n",
        "        Deletes an item from the front of Deque.\n",
        "        Return true if the operation is successful.\n",
        "        \"\"\"\n",
        "\n",
        "    def deleteRear(self) -> bool:\n",
        "        \"\"\"\n",
        "        Deletes an item from the rear of Deque.\n",
        "        Return true if the operation is successful.\n",
        "        \"\"\"\n",
        "\n",
        "    def getFront(self) -> int:\n",
        "        \"\"\"\n",
        "        Get the front item from the deque.\n",
        "        \"\"\"\n",
        "\n",
        "    def getRear(self) -> int:\n",
        "        \"\"\"\n",
        "        Get the last item from the deque.\n",
        "        \"\"\"\n",
        "\n",
        "    def isEmpty(self) -> bool:\n",
        "        \"\"\"\n",
        "        Checks whether the circular deque is empty or not.\n",
        "        \"\"\"\n",
        "        return True if self.front == -1 else False\n",
        "\n",
        "    def isFull(self) -> bool:\n",
        "        \"\"\"\n",
        "        Checks whether the circular deque is full or not.\n",
        "        \"\"\"\n",
        "        if (\n",
        "            self.front == 0 and self.rear == self.capacity - 1\n",
        "        ) or self.rear + 1 == self.front:\n",
        "            return True\n",
        "        return False\n",
        "\n",
        "\n",
        "# capacity, value = 10, 1\n",
        "# cq = CircularDeque(capacity)\n",
        "# param_1 = cq.insertFront(value)\n",
        "# param_2 = cq.insertRear(value)\n",
        "# param_3 = cq.deleteFront()\n",
        "# param_4 = cq.deleteRear()\n",
        "# param_5 = cq.getFront()\n",
        "# param_6 = cq.getRear()\n",
        "# param_7 = cq.isEmpty()\n",
        "# param_8 = cq.isFull()"
      ],
      "execution_count": null,
      "outputs": []
    },
    {
      "cell_type": "markdown",
      "metadata": {
        "id": "cC_0i9beOksc"
      },
      "source": [
        "## AVL Tree"
      ]
    },
    {
      "cell_type": "markdown",
      "metadata": {
        "id": "xhDUWql0Ux3D"
      },
      "source": [
        "AVL tree is a self-balancing binary search tree in which each node maintains extra information called a balance factor whose value is either -1, 0 or +1. AVL tree got its name after its inventors Georgy Adelson-Velsky and Landis.\n",
        "\n",
        "**Balance factor** of a node in an AVL tree *is the difference between the height of the left subtree and that of the right subtree of that node* (i.e., Balance Factor = (Height of Left Subtree - Height of Right Subtree) or (Height of Right Subtree - Height of Left Subtree)). The self balancing property of an avl tree is maintained by the balance factor. The value of balance factor should always be -1, 0 or +1. An insertion or deletion process can corrupt the self balancing property of an AVL tree (i.e, the balance factor can be < -1 or > +1). Hence, *following the normal procedures of insertion or deletion of any regular binary search tree, one has to check whether the self balancing property of the AVL tree still holds or not*. If the property is violated, one has to re-balance the tree using a process called **rotation**. \n",
        "\n",
        "Rotations are 3 types: left, right and double rotations. Actually, a double rotation is either left rotation followed by right one or right rotation followed by left one. Please consider these two links to know about rotations in details: \n",
        "1. https://courses.cs.washington.edu/courses/cse373/06sp/handouts/lecture12.pdf\n",
        "2. https://www.tutorialspoint.com/data_structures_algorithms/pdf/avl_tree_algorithm.pdf\n",
        "\n",
        "\n",
        "**Note**: You are encouraged to search the internet for more details about AVL Trees or for an implementation of AVL Trees using Python. Please, try to understand the information you read on the internet and don't just copy it without exerting required effort."
      ]
    },
    {
      "cell_type": "code",
      "metadata": {
        "id": "ba3GVCOxOj-7"
      },
      "source": [
        "class TreeNode:\n",
        "    def __init__(self, val=0, left=None, right=None):\n",
        "        self.val = val\n",
        "        self.left = left\n",
        "        self.right = right\n",
        "        self.height = 1"
      ],
      "execution_count": null,
      "outputs": []
    },
    {
      "cell_type": "code",
      "metadata": {
        "id": "hj-HL8EHZ_VV"
      },
      "source": [
        "class AVLTree:   \n",
        "    def getHeight(self, root):\n",
        "        \"\"\"\n",
        "        Return the height of root node\n",
        "        \"\"\"\n",
        "\n",
        "        if not root: return 0\n",
        "        return root.height\n",
        "    \n",
        "    def getBalance(self, root):\n",
        "        \"\"\"\n",
        "        Check for root's balance\n",
        "        \"\"\"\n",
        "\n",
        "        if not root: return 0\n",
        "        return self.getHeight(root.left) - self.getHeight(root.right)\n",
        "    \n",
        "    def getMinValueNode(self, root):\n",
        "        \"\"\"\n",
        "        Get the node with lowest value (i.e., far left node)\n",
        "        \"\"\"\n",
        "\n",
        "        if root is None or root.left is None:\n",
        "            return root\n",
        "        return self.getMinValueNode(root.left)\n",
        "    \n",
        "    def insert(self, root, val):\n",
        "        \"\"\"\n",
        "        Insert node with target value \"val\"\n",
        "        \"\"\"\n",
        "\n",
        "        if not root:\n",
        "            return TreeNode(val)\n",
        "        elif val < root.val:\n",
        "            root.left = self.insert(root.left, val)\n",
        "        else:\n",
        "            root.right = self.insert(root.right, val)\n",
        "\n",
        "        root.height = 1 + max(self.getHeight(root.left),\n",
        "                              self.getHeight(root.right))\n",
        "        \n",
        "        ##############################################################\n",
        "        ##                      YOUR CODE HERE                      ##\n",
        "        ##############################################################\n",
        "\n",
        "        return root\n",
        "\n",
        "    def delete(self, root, val):\n",
        "        \"\"\"\n",
        "        Delete a node with target value \"val\"\n",
        "        \"\"\"\n",
        "\n",
        "        if not root: return root\n",
        "        elif val < root.val:\n",
        "            root.left = self.delete(root.left, val)\n",
        "        elif val > root.val:\n",
        "            root.right = self.delete(root.right, val)\n",
        "        else:\n",
        "            if root.left is None:\n",
        "                temp, root = root.right, None\n",
        "                return temp\n",
        "            elif root.right is None:\n",
        "                temp, root = root.left, None\n",
        "                return temp\n",
        "            temp = self.getMinValueNode(root.right)\n",
        "            root.val = temp.val\n",
        "            root.right = self.delete(root.right, temp.val)\n",
        "        if root is None:\n",
        "            return root\n",
        "\n",
        "        root.height = 1 + max(self.getHeight(root.left),\n",
        "                              self.getHeight(root.right))\n",
        "\n",
        "        ##############################################################\n",
        "        ##                      YOUR CODE HERE                      ##\n",
        "        ##############################################################\n",
        "\n",
        "        return root\n",
        "\n",
        "    def rotateLeft(self, root):\n",
        "        \"\"\"\n",
        "        Left rotate the root tree\n",
        "        \"\"\"\n",
        "\n",
        "        ##############################################################\n",
        "        ##                      YOUR CODE HERE                      ##\n",
        "        ##############################################################\n",
        "\n",
        "    def rotateRight(self, root):\n",
        "        \"\"\"\n",
        "        Right rotate the root tree\n",
        "        \"\"\"\n",
        "        \n",
        "        ##############################################################\n",
        "        ##                      YOUR CODE HERE                      ##\n",
        "        ##############################################################\n"
      ],
      "execution_count": null,
      "outputs": []
    },
    {
      "cell_type": "markdown",
      "metadata": {
        "id": "pKXYul-eB81v"
      },
      "source": [
        "## Breadth First Traversal of AVL Tree using Circular Deque"
      ]
    },
    {
      "cell_type": "markdown",
      "metadata": {
        "id": "3hKAlU8iCQro"
      },
      "source": [
        "One way to make sure that your of implemenation of the AVL Tree is correct, is to traverse your tree level by level to check for the balancing property of the tree by your naked eye. Using your Circular Deque data structure above, perform level order traversal for your AVL Tree."
      ]
    },
    {
      "cell_type": "code",
      "metadata": {
        "id": "35DXip8dDDL4"
      },
      "source": [
        "def printLevelOrder(root):\n",
        "    \"\"\"\n",
        "    Given root node, print the root tree level by level\n",
        "    \"\"\"\n",
        "    \n",
        "    ##############################################################\n",
        "    ##                      YOUR CODE HERE                      ##\n",
        "    ##############################################################\n",
        "\n",
        "# myTree = AVLTree()\n",
        "# root = None\n",
        "# nums = [33, 13, 52, 9, 21, 61, 8, 11]\n",
        "# for num in nums:\n",
        "#     root = myTree.insert(root, num)\n",
        "# myTree.printLevelOrder(root)\n",
        "# myTree.delete(root, 13)\n",
        "# myTree.printLevelOrder(root)"
      ],
      "execution_count": null,
      "outputs": []
    }
  ]
}